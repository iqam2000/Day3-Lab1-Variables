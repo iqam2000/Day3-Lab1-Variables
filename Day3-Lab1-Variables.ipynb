{
 "cells": [
  {
   "cell_type": "code",
   "execution_count": 3,
   "id": "beb3a931",
   "metadata": {},
   "outputs": [
    {
     "name": "stdout",
     "output_type": "stream",
     "text": [
      "Winter\n",
      "10\n",
      "20.2\n",
      "20\n",
      "20\n",
      "Amani\n",
      "King Saud University\n"
     ]
    }
   ],
   "source": [
    "FavouriteSeason = \"Winter\"\n",
    "x = 10\n",
    "y = 20.2\n",
    "\n",
    "q = c = z = 20\n",
    "\n",
    "Name, University = \"Amani\" , \"King Saud University\"\n",
    "\n",
    "\n",
    "print(FavouriteSeason)\n",
    "print(x)\n",
    "print(y)\n",
    "print(q)\n",
    "print(c)\n",
    "print(Name)\n",
    "print(University)"
   ]
  },
  {
   "cell_type": "code",
   "execution_count": null,
   "id": "97c1cbb6",
   "metadata": {},
   "outputs": [],
   "source": []
  },
  {
   "cell_type": "code",
   "execution_count": null,
   "id": "0139650f",
   "metadata": {},
   "outputs": [],
   "source": []
  }
 ],
 "metadata": {
  "kernelspec": {
   "display_name": "Python 3 (ipykernel)",
   "language": "python",
   "name": "python3"
  },
  "language_info": {
   "codemirror_mode": {
    "name": "ipython",
    "version": 3
   },
   "file_extension": ".py",
   "mimetype": "text/x-python",
   "name": "python",
   "nbconvert_exporter": "python",
   "pygments_lexer": "ipython3",
   "version": "3.9.12"
  }
 },
 "nbformat": 4,
 "nbformat_minor": 5
}
